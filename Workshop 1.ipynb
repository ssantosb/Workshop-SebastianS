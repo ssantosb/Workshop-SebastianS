{
 "cells": [
  {
   "cell_type": "markdown",
   "id": "6faf9354",
   "metadata": {},
   "source": [
    "<h1><center>Bienvenido a Sumz</center></h1>"
   ]
  },
  {
   "cell_type": "markdown",
   "id": "c1999b7c",
   "metadata": {},
   "source": [
    "¡Bienvenido al Workshop de Ingeniería de Datos de Sumz!\n",
    "\n",
    "Estamos encantados de darte la bienvenida a este taller diseñado especialmente para ti, donde exploraremos juntos el fascinante mundo de la ingeniería de datos. Durante los próximos días, nuestro objetivo principal será familiarizarte con las herramientas y casos de negocio.\n",
    "\n",
    "En este taller, trabajaremos con algunas herramientas clave que son fundamentales en el ámbito de la ingeniería de datos y te ayudarán a alcanzar tus metas. Comenzaremos sumergiéndonos en el mundo de Pandas, una biblioteca de Python que te brindará un amplio conjunto de funciones y capacidades para el análisis y manipulación de datos. Aprenderás cómo utilizar Pandas para realizar tareas esenciales como limpieza, filtrado, agregación y mucho más.\n",
    "\n",
    "Además, exploraremos PySpark, una poderosa herramienta para el procesamiento distribuido de datos a gran escala. Con PySpark, podrás enfrentar desafíos más complejos al trabajar con conjuntos de datos enormes y obtener resultados en tiempo real. Aprenderás a aprovechar al máximo esta tecnología para realizar análisis avanzados y aplicar transformaciones en tus flujos de datos.\n",
    "\n",
    "No podemos olvidar la importancia de SQL en el mundo de la ingeniería de datos. Durante el taller, nos sumergiremos en los conceptos básicos de SQL y exploraremos cómo utilizarlo para consultas eficientes en bases de datos relacionales. Comprender y dominar SQL te abrirá las puertas para aprovechar al máximo los datos almacenados en sistemas de gestión de bases de datos.\n",
    "\n",
    "Una vez que hayamos afianzado los conocimientos fundamentales de estas herramientas, daremos un paso más y exploraremos Git y Kedro. Git te permitirá gestionar eficientemente el versionado de tu código y colaborar en equipos, mientras que Kedro será nuestra guía para desarrollar y organizar proyectos de datos de manera escalable y modular.\n",
    "\n",
    "Este taller será un espacio interactivo y dinámico donde combinaremos espacios teóricos con prácticas guiadas para asegurarnos de que puedas aplicar lo aprendido de manera efectiva. Además, tendrás la oportunidad de plantear preguntas, intercambiar ideas y compartir tus experiencias para enriquecer aún más el proceso de aprendizaje.\n",
    "\n",
    "Una vez más, te damos una cálida bienvenida y esperamos que disfrutes al máximo este Workshop de Ingeniería de Datos de Sumz. ¡Estamos emocionados de acompañarte en este viaje de aprendizaje!"
   ]
  },
  {
   "cell_type": "markdown",
   "id": "f708b515",
   "metadata": {},
   "source": [
    "<h2> Caso de negocio </h2>"
   ]
  },
  {
   "cell_type": "markdown",
   "id": "a9f75858",
   "metadata": {},
   "source": [
    "Como parte de la inducción y para brindarte una experiencia práctica y relevante, vamos a realizar un ejercicio que simula un escenario real de trabajo. Serás asignado a un proyecto donde actuarás como ingeniero de datos y recibirás una serie de preguntas planteadas por el líder del proyecto en base a requerimientos de negocio.\n",
    "\n",
    "El líder del proyecto te transmitirá las preguntas que han sido formuladas por el equipo de negocio. Tu tarea será utilizar tus habilidades en el manejo de herramientas como Pandas, PySpark y SQL para analizar los datos y proporcionar las respuestas correspondientes.\n",
    "\n",
    "Este ejercicio te permitirá aplicar los conocimientos adquiridos en el taller a situaciones reales, y demostrar tu capacidad para resolver problemas y brindar soluciones a través del manejo de datos.\n",
    "\n",
    "Recuerda que el objetivo principal es familiarizarte con las herramientas y casos de negocio, así como fortalecer tus habilidades en el manejo de Pandas, PySpark y SQL.\n",
    "\n",
    "¡Estoy seguro de que te desempeñarás de manera excelente en este ejercicio! Si tienes alguna pregunta o necesitas orientación adicional, no dudes en consultarnos."
   ]
  },
  {
   "cell_type": "markdown",
   "id": "fc25a513",
   "metadata": {},
   "source": [
    "<h3> Ejercicio</h3> "
   ]
  },
  {
   "cell_type": "markdown",
   "id": "066f1c71",
   "metadata": {},
   "source": [
    "Estimado ingeniero de datos,\n",
    "\n",
    "Como jefe de analítica, tengo algunas preguntas realizadas por negocio que necesito que respondas utilizando las herramientas de Pandas, PySpark y SQL. A continuación, te presento las preguntas junto con los detalles requeridos para cada una:\n",
    "<ul>\n",
    "<li>\n",
    "Quisiera saber cuáles fueron los productos más populares cada mes durante el año 2018. ¿Me puedes mostrar esa información?\n",
    "</li>\n",
    "    <li>\n",
    "Necesito saber en cuántas tiendas se implementaron promociones del tipo 1 en el canal 1 durante el año 2019. ¿Puedes darme ese dato?</li>\n",
    "<li>\n",
    "Me gustaría saber cuál fue la ciudad que tuvo el mayor volumen de ventas en general durante todo el periodo de 2017 a 2019. ¿Tienes esa información disponible?</li>\n",
    "<li>\n",
    "¿Podrías decirme cuál fue el promedio de stock disponible en todas las tiendas durante el año 2017? Estoy interesado en conocer ese dato.</li>\n",
    "<li>\n",
    "Estoy buscando saber cuántas veces se aplicaron descuentos en el canal 2 durante el mes de diciembre de 2018. ¿Puedes ayudarme con esa información?</li>\n",
    "<li>\n",
    "¿Cuál fue el producto con el precio de venta más alto en cada tienda durante el tercer trimestre de 2019? Me gustaría conocer esos detalles.</li>\n",
    "<li>\n",
    "Estoy interesado en saber cuántas tiendas experimentaron un aumento de ventas del 20% o más en comparación con el año anterior. ¿Tienes esos datos disponibles?</li>\n",
    "<li>\n",
    "Quisiera saber cuál fue el producto que experimentó la mayor variación de precio a lo largo del periodo de 2017 a 2019. ¿Puedes proporcionarme esa información?</li>\n",
    "<li>\n",
    "¿Sabes en qué mes y año se registró la mayor cantidad de ingresos generados en todas las tiendas? Estoy interesado en conocer ese dato importante.</li>\n",
    "<li>\n",
    "Me gustaría saber cuál fue el tamaño promedio de las tiendas en cada ciudad durante el año 2018. ¿Puedes darme esa información?</li>\n",
    "</ul>\n",
    "\n",
    "Te animo a utilizar Pandas, PySpark y SQL para resolver estas preguntas de manera precisa. Asegúrate de generar los resultados en el formato adecuado para su fácil interpretación.\n",
    "\n",
    "Adicionalmente, si es posible, me gustaría que consideraras la posibilidad de diseñar una estructura de datos que permita resolver todas estas preguntas y más con solo una tabla o unas pocas tablas relacionadas. Esto nos ayudaría a simplificar las consultas y mejorar la eficiencia en el análisis de datos. Si tienes alguna propuesta en mente, por favor, plantea la estructura que consideres más apropiada.\n",
    "\n",
    "Si tienes alguna pregunta adicional o necesitas más detalles, no dudes en consultarme. Espero con interés tus respuestas y soluciones."
   ]
  },
  {
   "cell_type": "markdown",
   "id": "a97ea032",
   "metadata": {},
   "source": [
    "### **File descriptions**\n",
    "sales.csv - Train data. Daily sales data covering 2017-2019.\n",
    "\n",
    "product_hierarchy.csv - Data containing the hierarchy and sizes of the products.\n",
    "\n",
    "store_cities.csv - Data containing the city, type and size information of the stores.\n",
    "\n",
    "### **Column descriptions**\n",
    "store_id - The unique identifier of a store.\n",
    "\n",
    "product_id - The unique identifier of a product.\n",
    "\n",
    "date - Sales date (YYYY-MM-DD)\n",
    "\n",
    "sales - Sales quantity\n",
    "\n",
    "revenue - Daily total sales revenue\n",
    "\n",
    "stock - End of day stock quantity\n",
    "\n",
    "price - Product sales price\n",
    "\n",
    "promo_type_1 - Type of promotion applied on channel 1\n",
    "\n",
    "promo_bin_1 - Binned promotion rate for applied promo_type_1\n",
    "\n",
    "promo_type_2 - Type of promotion applied on channel 2\n",
    "\n",
    "promo_bin_2 - Binned promotion rate for applied promo_type_2\n",
    "\n",
    "promo_discount_2 - Discount rate for applied promo type 2\n",
    "\n",
    "promo_discount_type_2 - Type of discount applied\n",
    "\n",
    "product_length - Length of product\n",
    "\n",
    "product_depth - Depth of product\n",
    "\n",
    "product_width - Width of product\n",
    "\n",
    "hierarchy1_id\n",
    "\n",
    "hierarchy2_id\n",
    "\n",
    "hierarchy3_id\n",
    "\n",
    "hierarchy4_id\n",
    "\n",
    "hierarchy5_id\n",
    "\n",
    "storetype_id\n",
    "\n",
    "store_size\n",
    "\n",
    "city_id"
   ]
  },
  {
   "cell_type": "markdown",
   "id": "eaa46a6b",
   "metadata": {},
   "source": []
  },
  {
   "cell_type": "markdown",
   "id": "a4255131",
   "metadata": {},
   "source": []
  },
  {
   "cell_type": "markdown",
   "id": "b29248a6",
   "metadata": {},
   "source": []
  },
  {
   "cell_type": "markdown",
   "id": "4319bb47",
   "metadata": {},
   "source": []
  },
  {
   "cell_type": "markdown",
   "id": "68e9c9ae",
   "metadata": {},
   "source": []
  },
  {
   "cell_type": "markdown",
   "id": "66ce4aaa",
   "metadata": {},
   "source": [
    "<h2> <center> Pandas </center></h2> "
   ]
  },
  {
   "attachments": {
    "image-2.png": {
     "image/png": "[encoded data removed]"
    },
    "image.png": {
     "image/png": "[encoded data removed]"
    }
   },
   "cell_type": "markdown",
   "id": "9a2eb210",
   "metadata": {},
   "source": [
    "### ¿Qué es?\n",
    "\n",
    "Es una muy popular librería de código abierto dentro de los desarrolladores de Python, y sobre todo dentro del ámbito de Data Science y Machine Learning, ya que ofrece unas estructuras muy poderosas y flexibles que facilitan la manipulación y tratamiento de datos.\n",
    "\n",
    "![image.png](attachment:image.png)\n",
    "\n",
    "### ¿Para qué sirve?\n",
    "\n",
    "\n",
    "\n",
    "\n",
    "\n",
    "\n",
    "\n",
    "\n",
    "<ul>\n",
    "  <li>Permite leer y escribir fácilmente ficheros en formato CSV, Excel y bases de datos SQL.</li>\n",
    "  <li>Permite acceder a los datos mediante índices o nombres para filas y columnas.</li>\n",
    "  <li>Ofrece métodos para reordenar, filtrar, dividir y combinar conjuntos de datos.</li>\n",
    "  <li>Realiza todas estas operaciones de manera muy eficiente.</li>    \n",
    "</ul>\n",
    "\n",
    "### Estructuras de datos en Pandas\n",
    "Las dos estructuras de datos principales dentro del paquete Pandas son:\n",
    "<ul>\n",
    "<li><b>Series:</b> array unidimensional etiquetado capaz de almacenar cualquier tipo de dato.</li>\n",
    "<li><b>DataFrame:</b> estructura bidimensional con columnas que pueden ser también de cualquier tipo. Estas columnas son a su vez Series.</li>\n",
    "</ul>\n",
    "\n",
    "![image-2.png](attachment:image-2.png)"
   ]
  },
  {
   "cell_type": "markdown",
   "id": "9679ac53",
   "metadata": {},
   "source": [
    "<br>\n",
    "\n",
    "# <center> Funcionamiento básico </center>"
   ]
  },
  {
   "cell_type": "markdown",
   "id": "fecade60",
   "metadata": {},
   "source": [
    "## Cargue de librerías"
   ]
  },
  {
   "cell_type": "code",
   "execution_count": 7,
   "id": "af123da3",
   "metadata": {},
   "outputs": [],
   "source": [
    "import pandas as pd"
   ]
  },
  {
   "cell_type": "markdown",
   "id": "4c66f93e",
   "metadata": {},
   "source": [
    "## Cargue de datos"
   ]
  },
  {
   "cell_type": "code",
   "execution_count": 8,
   "id": "d1816db7",
   "metadata": {
    "scrolled": true
   },
   "outputs": [],
   "source": [
    "df_sales = pd.read_csv(\"sales.csv\", low_memory=False)\n",
    "df_ph = pd.read_csv(\"product_hierarchy.csv\", low_memory=False)\n",
    "df_sc = pd.read_csv(\"store_cities.csv\", low_memory=False)"
   ]
  },
  {
   "cell_type": "markdown",
   "id": "660ba02e",
   "metadata": {},
   "source": [
    "## Analizar datos"
   ]
  },
  {
   "cell_type": "code",
   "execution_count": 9,
   "id": "d7450b0d",
   "metadata": {
    "scrolled": false
   },
   "outputs": [
    {
     "data": {
      "text/html": [
       "<div>\n",
       "<style scoped>\n",
       "    .dataframe tbody tr th:only-of-type {\n",
       "        vertical-align: middle;\n",
       "    }\n",
       "\n",
       "    .dataframe tbody tr th {\n",
       "        vertical-align: top;\n",
       "    }\n",
       "\n",
       "    .dataframe thead th {\n",
       "        text-align: right;\n",
       "    }\n",
       "</style>\n",
       "<table border=\"1\" class=\"dataframe\">\n",
       "  <thead>\n",
       "    <tr style=\"text-align: right;\">\n",
       "      <th></th>\n",
       "      <th>product_id</th>\n",
       "      <th>store_id</th>\n",
       "      <th>date</th>\n",
       "      <th>sales</th>\n",
       "      <th>revenue</th>\n",
       "      <th>stock</th>\n",
       "      <th>price</th>\n",
       "      <th>promo_type_1</th>\n",
       "      <th>promo_bin_1</th>\n",
       "      <th>promo_type_2</th>\n",
       "      <th>promo_bin_2</th>\n",
       "      <th>promo_discount_2</th>\n",
       "      <th>promo_discount_type_2</th>\n",
       "    </tr>\n",
       "  </thead>\n",
       "  <tbody>\n",
       "    <tr>\n",
       "      <th>0</th>\n",
       "      <td>P0001</td>\n",
       "      <td>S0002</td>\n",
       "      <td>2017-01-02</td>\n",
       "      <td>0.0</td>\n",
       "      <td>0.00</td>\n",
       "      <td>8.0</td>\n",
       "      <td>6.25</td>\n",
       "      <td>PR14</td>\n",
       "      <td>NaN</td>\n",
       "      <td>PR03</td>\n",
       "      <td>NaN</td>\n",
       "      <td>NaN</td>\n",
       "      <td>NaN</td>\n",
       "    </tr>\n",
       "    <tr>\n",
       "      <th>1</th>\n",
       "      <td>P0001</td>\n",
       "      <td>S0012</td>\n",
       "      <td>2017-01-02</td>\n",
       "      <td>1.0</td>\n",
       "      <td>5.30</td>\n",
       "      <td>0.0</td>\n",
       "      <td>6.25</td>\n",
       "      <td>PR14</td>\n",
       "      <td>NaN</td>\n",
       "      <td>PR03</td>\n",
       "      <td>NaN</td>\n",
       "      <td>NaN</td>\n",
       "      <td>NaN</td>\n",
       "    </tr>\n",
       "    <tr>\n",
       "      <th>2</th>\n",
       "      <td>P0001</td>\n",
       "      <td>S0013</td>\n",
       "      <td>2017-01-02</td>\n",
       "      <td>2.0</td>\n",
       "      <td>10.59</td>\n",
       "      <td>0.0</td>\n",
       "      <td>6.25</td>\n",
       "      <td>PR14</td>\n",
       "      <td>NaN</td>\n",
       "      <td>PR03</td>\n",
       "      <td>NaN</td>\n",
       "      <td>NaN</td>\n",
       "      <td>NaN</td>\n",
       "    </tr>\n",
       "    <tr>\n",
       "      <th>3</th>\n",
       "      <td>P0001</td>\n",
       "      <td>S0023</td>\n",
       "      <td>2017-01-02</td>\n",
       "      <td>0.0</td>\n",
       "      <td>0.00</td>\n",
       "      <td>6.0</td>\n",
       "      <td>6.25</td>\n",
       "      <td>PR14</td>\n",
       "      <td>NaN</td>\n",
       "      <td>PR03</td>\n",
       "      <td>NaN</td>\n",
       "      <td>NaN</td>\n",
       "      <td>NaN</td>\n",
       "    </tr>\n",
       "    <tr>\n",
       "      <th>4</th>\n",
       "      <td>P0001</td>\n",
       "      <td>S0025</td>\n",
       "      <td>2017-01-02</td>\n",
       "      <td>0.0</td>\n",
       "      <td>0.00</td>\n",
       "      <td>1.0</td>\n",
       "      <td>6.25</td>\n",
       "      <td>PR14</td>\n",
       "      <td>NaN</td>\n",
       "      <td>PR03</td>\n",
       "      <td>NaN</td>\n",
       "      <td>NaN</td>\n",
       "      <td>NaN</td>\n",
       "    </tr>\n",
       "  </tbody>\n",
       "</table>\n",
       "</div>"
      ],
      "text/plain": [
       "  product_id store_id        date  sales  revenue  stock  price promo_type_1  \\\n",
       "0      P0001    S0002  2017-01-02    0.0     0.00    8.0   6.25         PR14   \n",
       "1      P0001    S0012  2017-01-02    1.0     5.30    0.0   6.25         PR14   \n",
       "2      P0001    S0013  2017-01-02    2.0    10.59    0.0   6.25         PR14   \n",
       "3      P0001    S0023  2017-01-02    0.0     0.00    6.0   6.25         PR14   \n",
       "4      P0001    S0025  2017-01-02    0.0     0.00    1.0   6.25         PR14   \n",
       "\n",
       "  promo_bin_1 promo_type_2 promo_bin_2  promo_discount_2 promo_discount_type_2  \n",
       "0         NaN         PR03         NaN               NaN                   NaN  \n",
       "1         NaN         PR03         NaN               NaN                   NaN  \n",
       "2         NaN         PR03         NaN               NaN                   NaN  \n",
       "3         NaN         PR03         NaN               NaN                   NaN  \n",
       "4         NaN         PR03         NaN               NaN                   NaN  "
      ]
     },
     "execution_count": 9,
     "metadata": {},
     "output_type": "execute_result"
    }
   ],
   "source": [
    "df_sales.head()"
   ]
  },
  {
   "cell_type": "code",
   "execution_count": 10,
   "id": "f42eb466",
   "metadata": {},
   "outputs": [
    {
     "data": {
      "text/html": [
       "<div>\n",
       "<style scoped>\n",
       "    .dataframe tbody tr th:only-of-type {\n",
       "        vertical-align: middle;\n",
       "    }\n",
       "\n",
       "    .dataframe tbody tr th {\n",
       "        vertical-align: top;\n",
       "    }\n",
       "\n",
       "    .dataframe thead th {\n",
       "        text-align: right;\n",
       "    }\n",
       "</style>\n",
       "<table border=\"1\" class=\"dataframe\">\n",
       "  <thead>\n",
       "    <tr style=\"text-align: right;\">\n",
       "      <th></th>\n",
       "      <th>product_id</th>\n",
       "      <th>product_length</th>\n",
       "      <th>product_depth</th>\n",
       "      <th>product_width</th>\n",
       "      <th>cluster_id</th>\n",
       "      <th>hierarchy1_id</th>\n",
       "      <th>hierarchy2_id</th>\n",
       "      <th>hierarchy3_id</th>\n",
       "      <th>hierarchy4_id</th>\n",
       "      <th>hierarchy5_id</th>\n",
       "    </tr>\n",
       "  </thead>\n",
       "  <tbody>\n",
       "    <tr>\n",
       "      <th>0</th>\n",
       "      <td>P0000</td>\n",
       "      <td>5.0</td>\n",
       "      <td>20.0</td>\n",
       "      <td>12.0</td>\n",
       "      <td>NaN</td>\n",
       "      <td>H00</td>\n",
       "      <td>H0004</td>\n",
       "      <td>H000401</td>\n",
       "      <td>H00040105</td>\n",
       "      <td>H0004010534</td>\n",
       "    </tr>\n",
       "    <tr>\n",
       "      <th>1</th>\n",
       "      <td>P0001</td>\n",
       "      <td>13.5</td>\n",
       "      <td>22.0</td>\n",
       "      <td>20.0</td>\n",
       "      <td>cluster_5</td>\n",
       "      <td>H01</td>\n",
       "      <td>H0105</td>\n",
       "      <td>H010501</td>\n",
       "      <td>H01050100</td>\n",
       "      <td>H0105010006</td>\n",
       "    </tr>\n",
       "    <tr>\n",
       "      <th>2</th>\n",
       "      <td>P0002</td>\n",
       "      <td>22.0</td>\n",
       "      <td>40.0</td>\n",
       "      <td>22.0</td>\n",
       "      <td>cluster_0</td>\n",
       "      <td>H03</td>\n",
       "      <td>H0315</td>\n",
       "      <td>H031508</td>\n",
       "      <td>H03150800</td>\n",
       "      <td>H0315080028</td>\n",
       "    </tr>\n",
       "    <tr>\n",
       "      <th>3</th>\n",
       "      <td>P0004</td>\n",
       "      <td>2.0</td>\n",
       "      <td>13.0</td>\n",
       "      <td>4.0</td>\n",
       "      <td>cluster_3</td>\n",
       "      <td>H03</td>\n",
       "      <td>H0314</td>\n",
       "      <td>H031405</td>\n",
       "      <td>H03140500</td>\n",
       "      <td>H0314050003</td>\n",
       "    </tr>\n",
       "    <tr>\n",
       "      <th>4</th>\n",
       "      <td>P0005</td>\n",
       "      <td>16.0</td>\n",
       "      <td>30.0</td>\n",
       "      <td>16.0</td>\n",
       "      <td>cluster_9</td>\n",
       "      <td>H03</td>\n",
       "      <td>H0312</td>\n",
       "      <td>H031211</td>\n",
       "      <td>H03121109</td>\n",
       "      <td>H0312110917</td>\n",
       "    </tr>\n",
       "  </tbody>\n",
       "</table>\n",
       "</div>"
      ],
      "text/plain": [
       "  product_id  product_length  product_depth  product_width cluster_id  \\\n",
       "0      P0000             5.0           20.0           12.0        NaN   \n",
       "1      P0001            13.5           22.0           20.0  cluster_5   \n",
       "2      P0002            22.0           40.0           22.0  cluster_0   \n",
       "3      P0004             2.0           13.0            4.0  cluster_3   \n",
       "4      P0005            16.0           30.0           16.0  cluster_9   \n",
       "\n",
       "  hierarchy1_id hierarchy2_id hierarchy3_id hierarchy4_id hierarchy5_id  \n",
       "0           H00         H0004       H000401     H00040105   H0004010534  \n",
       "1           H01         H0105       H010501     H01050100   H0105010006  \n",
       "2           H03         H0315       H031508     H03150800   H0315080028  \n",
       "3           H03         H0314       H031405     H03140500   H0314050003  \n",
       "4           H03         H0312       H031211     H03121109   H0312110917  "
      ]
     },
     "execution_count": 10,
     "metadata": {},
     "output_type": "execute_result"
    }
   ],
   "source": [
    "df_ph.head()"
   ]
  },
  {
   "cell_type": "code",
   "execution_count": 11,
   "id": "f2c0e967",
   "metadata": {},
   "outputs": [
    {
     "data": {
      "text/html": [
       "<div>\n",
       "<style scoped>\n",
       "    .dataframe tbody tr th:only-of-type {\n",
       "        vertical-align: middle;\n",
       "    }\n",
       "\n",
       "    .dataframe tbody tr th {\n",
       "        vertical-align: top;\n",
       "    }\n",
       "\n",
       "    .dataframe thead th {\n",
       "        text-align: right;\n",
       "    }\n",
       "</style>\n",
       "<table border=\"1\" class=\"dataframe\">\n",
       "  <thead>\n",
       "    <tr style=\"text-align: right;\">\n",
       "      <th></th>\n",
       "      <th>store_id</th>\n",
       "      <th>storetype_id</th>\n",
       "      <th>store_size</th>\n",
       "      <th>city_id</th>\n",
       "    </tr>\n",
       "  </thead>\n",
       "  <tbody>\n",
       "    <tr>\n",
       "      <th>0</th>\n",
       "      <td>S0091</td>\n",
       "      <td>ST04</td>\n",
       "      <td>19</td>\n",
       "      <td>C013</td>\n",
       "    </tr>\n",
       "    <tr>\n",
       "      <th>1</th>\n",
       "      <td>S0012</td>\n",
       "      <td>ST04</td>\n",
       "      <td>28</td>\n",
       "      <td>C005</td>\n",
       "    </tr>\n",
       "    <tr>\n",
       "      <th>2</th>\n",
       "      <td>S0045</td>\n",
       "      <td>ST04</td>\n",
       "      <td>17</td>\n",
       "      <td>C008</td>\n",
       "    </tr>\n",
       "    <tr>\n",
       "      <th>3</th>\n",
       "      <td>S0032</td>\n",
       "      <td>ST03</td>\n",
       "      <td>14</td>\n",
       "      <td>C019</td>\n",
       "    </tr>\n",
       "    <tr>\n",
       "      <th>4</th>\n",
       "      <td>S0027</td>\n",
       "      <td>ST04</td>\n",
       "      <td>24</td>\n",
       "      <td>C022</td>\n",
       "    </tr>\n",
       "  </tbody>\n",
       "</table>\n",
       "</div>"
      ],
      "text/plain": [
       "  store_id storetype_id  store_size city_id\n",
       "0    S0091         ST04          19    C013\n",
       "1    S0012         ST04          28    C005\n",
       "2    S0045         ST04          17    C008\n",
       "3    S0032         ST03          14    C019\n",
       "4    S0027         ST04          24    C022"
      ]
     },
     "execution_count": 11,
     "metadata": {},
     "output_type": "execute_result"
    }
   ],
   "source": [
    "df_sc.head()"
   ]
  },
  {
   "cell_type": "code",
   "execution_count": 12,
   "id": "7d07e5b6",
   "metadata": {},
   "outputs": [
    {
     "data": {
      "text/html": [
       "<div>\n",
       "<style scoped>\n",
       "    .dataframe tbody tr th:only-of-type {\n",
       "        vertical-align: middle;\n",
       "    }\n",
       "\n",
       "    .dataframe tbody tr th {\n",
       "        vertical-align: top;\n",
       "    }\n",
       "\n",
       "    .dataframe thead th {\n",
       "        text-align: right;\n",
       "    }\n",
       "</style>\n",
       "<table border=\"1\" class=\"dataframe\">\n",
       "  <thead>\n",
       "    <tr style=\"text-align: right;\">\n",
       "      <th></th>\n",
       "      <th>sales</th>\n",
       "      <th>revenue</th>\n",
       "      <th>stock</th>\n",
       "      <th>price</th>\n",
       "      <th>promo_discount_2</th>\n",
       "    </tr>\n",
       "  </thead>\n",
       "  <tbody>\n",
       "    <tr>\n",
       "      <th>count</th>\n",
       "      <td>1.826408e+07</td>\n",
       "      <td>1.826408e+07</td>\n",
       "      <td>1.826408e+07</td>\n",
       "      <td>1.888286e+07</td>\n",
       "      <td>59081.000000</td>\n",
       "    </tr>\n",
       "    <tr>\n",
       "      <th>mean</th>\n",
       "      <td>4.361900e-01</td>\n",
       "      <td>2.064174e+00</td>\n",
       "      <td>1.588102e+01</td>\n",
       "      <td>1.558334e+01</td>\n",
       "      <td>25.516494</td>\n",
       "    </tr>\n",
       "    <tr>\n",
       "      <th>std</th>\n",
       "      <td>1.466364e+01</td>\n",
       "      <td>3.989569e+01</td>\n",
       "      <td>3.728009e+01</td>\n",
       "      <td>3.229611e+01</td>\n",
       "      <td>11.064229</td>\n",
       "    </tr>\n",
       "    <tr>\n",
       "      <th>min</th>\n",
       "      <td>0.000000e+00</td>\n",
       "      <td>0.000000e+00</td>\n",
       "      <td>0.000000e+00</td>\n",
       "      <td>1.000000e-02</td>\n",
       "      <td>10.000000</td>\n",
       "    </tr>\n",
       "    <tr>\n",
       "      <th>25%</th>\n",
       "      <td>0.000000e+00</td>\n",
       "      <td>0.000000e+00</td>\n",
       "      <td>4.000000e+00</td>\n",
       "      <td>3.350000e+00</td>\n",
       "      <td>19.000000</td>\n",
       "    </tr>\n",
       "    <tr>\n",
       "      <th>50%</th>\n",
       "      <td>0.000000e+00</td>\n",
       "      <td>0.000000e+00</td>\n",
       "      <td>8.000000e+00</td>\n",
       "      <td>7.950000e+00</td>\n",
       "      <td>20.000000</td>\n",
       "    </tr>\n",
       "    <tr>\n",
       "      <th>75%</th>\n",
       "      <td>0.000000e+00</td>\n",
       "      <td>0.000000e+00</td>\n",
       "      <td>1.700000e+01</td>\n",
       "      <td>1.690000e+01</td>\n",
       "      <td>33.000000</td>\n",
       "    </tr>\n",
       "    <tr>\n",
       "      <th>max</th>\n",
       "      <td>4.330100e+04</td>\n",
       "      <td>8.419796e+04</td>\n",
       "      <td>4.716000e+03</td>\n",
       "      <td>1.599000e+03</td>\n",
       "      <td>50.000000</td>\n",
       "    </tr>\n",
       "  </tbody>\n",
       "</table>\n",
       "</div>"
      ],
      "text/plain": [
       "              sales       revenue         stock         price  \\\n",
       "count  1.826408e+07  1.826408e+07  1.826408e+07  1.888286e+07   \n",
       "mean   4.361900e-01  2.064174e+00  1.588102e+01  1.558334e+01   \n",
       "std    1.466364e+01  3.989569e+01  3.728009e+01  3.229611e+01   \n",
       "min    0.000000e+00  0.000000e+00  0.000000e+00  1.000000e-02   \n",
       "25%    0.000000e+00  0.000000e+00  4.000000e+00  3.350000e+00   \n",
       "50%    0.000000e+00  0.000000e+00  8.000000e+00  7.950000e+00   \n",
       "75%    0.000000e+00  0.000000e+00  1.700000e+01  1.690000e+01   \n",
       "max    4.330100e+04  8.419796e+04  4.716000e+03  1.599000e+03   \n",
       "\n",
       "       promo_discount_2  \n",
       "count      59081.000000  \n",
       "mean          25.516494  \n",
       "std           11.064229  \n",
       "min           10.000000  \n",
       "25%           19.000000  \n",
       "50%           20.000000  \n",
       "75%           33.000000  \n",
       "max           50.000000  "
      ]
     },
     "execution_count": 12,
     "metadata": {},
     "output_type": "execute_result"
    }
   ],
   "source": [
    "df_sales.describe()"
   ]
  },
  {
   "cell_type": "code",
   "execution_count": 13,
   "id": "0171a7f1",
   "metadata": {},
   "outputs": [
    {
     "data": {
      "text/html": [
       "<div>\n",
       "<style scoped>\n",
       "    .dataframe tbody tr th:only-of-type {\n",
       "        vertical-align: middle;\n",
       "    }\n",
       "\n",
       "    .dataframe tbody tr th {\n",
       "        vertical-align: top;\n",
       "    }\n",
       "\n",
       "    .dataframe thead th {\n",
       "        text-align: right;\n",
       "    }\n",
       "</style>\n",
       "<table border=\"1\" class=\"dataframe\">\n",
       "  <thead>\n",
       "    <tr style=\"text-align: right;\">\n",
       "      <th></th>\n",
       "      <th>product_length</th>\n",
       "      <th>product_depth</th>\n",
       "      <th>product_width</th>\n",
       "    </tr>\n",
       "  </thead>\n",
       "  <tbody>\n",
       "    <tr>\n",
       "      <th>count</th>\n",
       "      <td>681.000000</td>\n",
       "      <td>683.000000</td>\n",
       "      <td>683.000000</td>\n",
       "    </tr>\n",
       "    <tr>\n",
       "      <th>mean</th>\n",
       "      <td>7.232305</td>\n",
       "      <td>18.460908</td>\n",
       "      <td>13.454758</td>\n",
       "    </tr>\n",
       "    <tr>\n",
       "      <th>std</th>\n",
       "      <td>8.512507</td>\n",
       "      <td>14.269750</td>\n",
       "      <td>10.137132</td>\n",
       "    </tr>\n",
       "    <tr>\n",
       "      <th>min</th>\n",
       "      <td>0.000000</td>\n",
       "      <td>0.000000</td>\n",
       "      <td>0.000000</td>\n",
       "    </tr>\n",
       "    <tr>\n",
       "      <th>25%</th>\n",
       "      <td>3.000000</td>\n",
       "      <td>10.900000</td>\n",
       "      <td>7.450000</td>\n",
       "    </tr>\n",
       "    <tr>\n",
       "      <th>50%</th>\n",
       "      <td>5.000000</td>\n",
       "      <td>17.000000</td>\n",
       "      <td>10.800000</td>\n",
       "    </tr>\n",
       "    <tr>\n",
       "      <th>75%</th>\n",
       "      <td>8.000000</td>\n",
       "      <td>23.150000</td>\n",
       "      <td>16.000000</td>\n",
       "    </tr>\n",
       "    <tr>\n",
       "      <th>max</th>\n",
       "      <td>100.000000</td>\n",
       "      <td>165.000000</td>\n",
       "      <td>100.000000</td>\n",
       "    </tr>\n",
       "  </tbody>\n",
       "</table>\n",
       "</div>"
      ],
      "text/plain": [
       "       product_length  product_depth  product_width\n",
       "count      681.000000     683.000000     683.000000\n",
       "mean         7.232305      18.460908      13.454758\n",
       "std          8.512507      14.269750      10.137132\n",
       "min          0.000000       0.000000       0.000000\n",
       "25%          3.000000      10.900000       7.450000\n",
       "50%          5.000000      17.000000      10.800000\n",
       "75%          8.000000      23.150000      16.000000\n",
       "max        100.000000     165.000000     100.000000"
      ]
     },
     "execution_count": 13,
     "metadata": {},
     "output_type": "execute_result"
    }
   ],
   "source": [
    "df_ph.describe()"
   ]
  },
  {
   "cell_type": "code",
   "execution_count": 14,
   "id": "8b2137ca",
   "metadata": {},
   "outputs": [
    {
     "data": {
      "text/plain": [
       "product_id                object\n",
       "store_id                  object\n",
       "date                      object\n",
       "sales                    float64\n",
       "revenue                  float64\n",
       "stock                    float64\n",
       "price                    float64\n",
       "promo_type_1              object\n",
       "promo_bin_1               object\n",
       "promo_type_2              object\n",
       "promo_bin_2               object\n",
       "promo_discount_2         float64\n",
       "promo_discount_type_2     object\n",
       "dtype: object"
      ]
     },
     "execution_count": 14,
     "metadata": {},
     "output_type": "execute_result"
    }
   ],
   "source": [
    "df_sales.dtypes"
   ]
  },
  {
   "cell_type": "code",
   "execution_count": 15,
   "id": "96867b6e",
   "metadata": {},
   "outputs": [
    {
     "data": {
      "text/plain": [
       "product_id         object\n",
       "product_length    float64\n",
       "product_depth     float64\n",
       "product_width     float64\n",
       "cluster_id         object\n",
       "hierarchy1_id      object\n",
       "hierarchy2_id      object\n",
       "hierarchy3_id      object\n",
       "hierarchy4_id      object\n",
       "hierarchy5_id      object\n",
       "dtype: object"
      ]
     },
     "execution_count": 15,
     "metadata": {},
     "output_type": "execute_result"
    }
   ],
   "source": [
    "df_ph.dtypes"
   ]
  },
  {
   "cell_type": "code",
   "execution_count": 16,
   "id": "11d812a4",
   "metadata": {},
   "outputs": [
    {
     "data": {
      "text/plain": [
       "store_id        object\n",
       "storetype_id    object\n",
       "store_size       int64\n",
       "city_id         object\n",
       "dtype: object"
      ]
     },
     "execution_count": 16,
     "metadata": {},
     "output_type": "execute_result"
    }
   ],
   "source": [
    "df_sc.dtypes"
   ]
  },
  {
   "cell_type": "code",
   "execution_count": 17,
   "id": "9be20bdc",
   "metadata": {},
   "outputs": [
    {
     "name": "stderr",
     "output_type": "stream",
     "text": [
      "C:\\Users\\santo\\AppData\\Local\\Temp\\ipykernel_26936\\180377489.py:7: FutureWarning: The default value of numeric_only in DataFrame.corr is deprecated. In a future version, it will default to False. Select only valid columns or specify the value of numeric_only to silence this warning.\n",
      "  correlations = df_sales.corr()\n"
     ]
    }
   ],
   "source": [
    "summary = df_sales.describe(include='all')\n",
    "\n",
    "missing_values = df_sales.isnull().sum()\n",
    "\n",
    "unique_values = df_sales.nunique()\n",
    "\n",
    "correlations = df_sales.corr()\n",
    "\n",
    "dtypes = df_sales.dtypes\n",
    "\n",
    "info = pd.DataFrame({\n",
    "    'Missing Values': missing_values,\n",
    "    'Unique Values': unique_values,\n",
    "    'Data Types': dtypes\n",
    "})"
   ]
  },
  {
   "cell_type": "code",
   "execution_count": 10,
   "id": "c249e088",
   "metadata": {},
   "outputs": [
    {
     "name": "stdout",
     "output_type": "stream",
     "text": [
      "                       Missing Values  Unique Values Data Types\n",
      "product_id                          0            649     object\n",
      "store_id                            0            144     object\n",
      "date                                0           1092     object\n",
      "sales                         1190762           6188    float64\n",
      "revenue                       1190762          14113    float64\n",
      "stock                         1190762          12812    float64\n",
      "price                          571981            632    float64\n",
      "promo_type_1                        0             17     object\n",
      "promo_bin_1                  16803149              5     object\n",
      "promo_type_2                        0              4     object\n",
      "promo_bin_2                  19395757              4     object\n",
      "promo_discount_2             19395757             10    float64\n",
      "promo_discount_type_2        19395757              4     object\n"
     ]
    }
   ],
   "source": [
    "print(info)"
   ]
  },
  {
   "cell_type": "code",
   "execution_count": 18,
   "id": "2ec1d006",
   "metadata": {},
   "outputs": [
    {
     "name": "stdout",
     "output_type": "stream",
     "text": [
      "Dimensión: (19454838, 13)\n",
      "Datos duplicados: 0\n"
     ]
    }
   ],
   "source": [
    "print(\"Dimensión:\", df_sales.shape)\n",
    "print(\"Datos duplicados:\", len(df_sales) - len(df_sales.drop_duplicates()))"
   ]
  },
  {
   "cell_type": "code",
   "execution_count": 19,
   "id": "e5c3d0e1",
   "metadata": {},
   "outputs": [
    {
     "data": {
      "text/plain": [
       "product_id               0.000000\n",
       "store_id                 0.000000\n",
       "date                     0.000000\n",
       "sales                    0.061206\n",
       "revenue                  0.061206\n",
       "stock                    0.061206\n",
       "price                    0.029400\n",
       "promo_type_1             0.000000\n",
       "promo_bin_1              0.863700\n",
       "promo_type_2             0.000000\n",
       "promo_bin_2              0.996963\n",
       "promo_discount_2         0.996963\n",
       "promo_discount_type_2    0.996963\n",
       "dtype: float64"
      ]
     },
     "execution_count": 19,
     "metadata": {},
     "output_type": "execute_result"
    }
   ],
   "source": [
    "pd.set_option('display.max_rows', len(df_sales.isnull().sum()))\n",
    "s = (df_sales.isnull().sum() / df_sales.shape[0])\n",
    "s"
   ]
  },
  {
   "cell_type": "code",
   "execution_count": 20,
   "id": "bd4183a7",
   "metadata": {},
   "outputs": [
    {
     "name": "stdout",
     "output_type": "stream",
     "text": [
      "['PR14' 'PR05' 'PR10' 'PR03' 'PR06' 'PR07' 'PR12' 'PR17' 'PR08' 'PR13'\n",
      " 'PR09' 'PR16' 'PR15' 'PR01' 'PR18' 'PR11' 'PR04']\n"
     ]
    }
   ],
   "source": [
    "print(df_sales[\"promo_type_1\"].unique())"
   ]
  },
  {
   "cell_type": "markdown",
   "id": "42ede3af",
   "metadata": {},
   "source": [
    "<details>\n",
    "    <summary><b> Respuestas </b></summary> \n",
    "    \n",
    "    df\n",
    "    df.head()\n",
    "    df.tail()\n",
    "    df.describe()\n",
    "    \n",
    "    \n",
    "</details>"
   ]
  },
  {
   "cell_type": "markdown",
   "id": "c733c264",
   "metadata": {},
   "source": [
    "## Filter"
   ]
  },
  {
   "cell_type": "markdown",
   "id": "fd8974cd",
   "metadata": {},
   "source": [
    "<details>\n",
    "    <summary><b> Respuestas </b></summary> \n",
    "    \n",
    "    df[df['col'] == cond]\n",
    "    \n",
    "    \n",
    "</details>"
   ]
  },
  {
   "cell_type": "markdown",
   "id": "d2bfbb22",
   "metadata": {},
   "source": [
    "## When"
   ]
  },
  {
   "cell_type": "code",
   "execution_count": null,
   "id": "91e6e334",
   "metadata": {},
   "outputs": [],
   "source": []
  },
  {
   "cell_type": "markdown",
   "id": "04626158",
   "metadata": {},
   "source": [
    "<details>\n",
    "    <summary><b> Respuestas </b></summary>\n",
    "    \n",
    "    df['columna'] = np.where(df['columna_2'] < x, 'categoría1', 'categoría2')\n",
    "</details>                                                                              "
   ]
  },
  {
   "cell_type": "markdown",
   "id": "c4623a57",
   "metadata": {},
   "source": [
    "## Formatting date"
   ]
  },
  {
   "cell_type": "code",
   "execution_count": null,
   "id": "fbcd2c67",
   "metadata": {},
   "outputs": [],
   "source": []
  },
  {
   "cell_type": "markdown",
   "id": "0a218434",
   "metadata": {},
   "source": [
    "<details>\n",
    "    <summary><b> Respuestas </b></summary>\n",
    "    \n",
    "    df['datetime'] = pd.to_datetime(df['create_date'], unit = 's')\n",
    "    df['date'] = df['datetime'].dt.date\n",
    "    df\n",
    "</details>       "
   ]
  },
  {
   "attachments": {
    "image.png": {
     "image/png": "[encoded data removed]"
    }
   },
   "cell_type": "markdown",
   "id": "29d55be3",
   "metadata": {},
   "source": [
    "## Aggregations\n",
    "\n",
    "![image.png](attachment:image.png)"
   ]
  },
  {
   "cell_type": "code",
   "execution_count": null,
   "id": "1529c800",
   "metadata": {
    "scrolled": false
   },
   "outputs": [],
   "source": []
  },
  {
   "cell_type": "markdown",
   "id": "cde1abb0",
   "metadata": {},
   "source": [
    "<details>\n",
    "    <summary><b> Respuestas </b></summary>\n",
    "    \n",
    "    df.groupby(['date', 'calificacion'], as_index=False).agg(\n",
    "        max_amount=pd.NamedAgg(column='amount', aggfunc=max),\n",
    "        min_amount=pd.NamedAgg(column='amount', aggfunc=min),\n",
    "        total_amount=pd.NamedAgg(column='amount', aggfunc=sum),\n",
    "        count_amount=pd.NamedAgg(column='amount', aggfunc=np.size)\n",
    "    )\n",
    "</details>   \n"
   ]
  },
  {
   "cell_type": "markdown",
   "id": "5231b707",
   "metadata": {},
   "source": [
    "## Join"
   ]
  },
  {
   "cell_type": "code",
   "execution_count": null,
   "id": "02f66f51",
   "metadata": {},
   "outputs": [],
   "source": []
  },
  {
   "cell_type": "markdown",
   "id": "ce13a654",
   "metadata": {},
   "source": [
    "<details>\n",
    "    <summary><b> Respuestas </b></summary> \n",
    "    \n",
    "    df1.merge(df2, left_on='lkey', right_on='rkey')\n",
    "    \n",
    "    \n",
    "</details>"
   ]
  },
  {
   "cell_type": "markdown",
   "id": "19b2376e",
   "metadata": {},
   "source": []
  },
  {
   "cell_type": "markdown",
   "id": "66366636",
   "metadata": {},
   "source": []
  },
  {
   "cell_type": "markdown",
   "id": "6f7c0528",
   "metadata": {},
   "source": []
  },
  {
   "cell_type": "markdown",
   "id": "80a4a448",
   "metadata": {},
   "source": []
  },
  {
   "cell_type": "markdown",
   "id": "e81057c9",
   "metadata": {},
   "source": []
  },
  {
   "cell_type": "markdown",
   "id": "6f983029",
   "metadata": {},
   "source": []
  },
  {
   "cell_type": "markdown",
   "id": "3eeab0c5",
   "metadata": {},
   "source": [
    "<h1><center> Spark </center></h1>"
   ]
  },
  {
   "cell_type": "markdown",
   "id": "7d04dec4",
   "metadata": {},
   "source": [
    "Apache Spark es un Framework de código abierto desarrollado por el AMPLab de la UC Berkeley que permite procesar bases de datos masivas mediante computación distribuida, una técnica que consiste en explotar varias unidades de computación distribuidas en clusters en beneficio de un mismo proyecto para dividir el tiempo de ejecución de una consulta."
   ]
  },
  {
   "cell_type": "markdown",
   "id": "cd471c0b",
   "metadata": {},
   "source": [
    "Un RDD es la representación de Spark de un array de datos. Es una colección de elementos que puede utilizarse para contener tuples, diccionarios, listas…\n",
    "\n",
    "La ventaja de un RDD reside en su capacidad para evaluar el código de forma perezosa: el lanzamiento de los cálculos se pospone hasta que sea absolutamente necesario. Por ejemplo, al importar un archivo, sólo se crea un puntero al mismo. En realidad, el cálculo sólo se realiza en el último momento, cuando se quiere visualizar o utilizar un resultado."
   ]
  },
  {
   "cell_type": "markdown",
   "id": "206daa61",
   "metadata": {},
   "source": [
    "## Cargue de datos"
   ]
  },
  {
   "cell_type": "code",
   "execution_count": 1,
   "id": "ed4a34fb",
   "metadata": {},
   "outputs": [
    {
     "data": {
      "text/plain": [
       "'C:\\\\spark\\\\spark-3.4.1-bin-hadoop3'"
      ]
     },
     "execution_count": 1,
     "metadata": {},
     "output_type": "execute_result"
    }
   ],
   "source": [
    "import findspark\n",
    "findspark.init()\n",
    "import pyspark\n",
    "findspark.find()"
   ]
  },
  {
   "cell_type": "code",
   "execution_count": 110,
   "id": "f3ae1c98",
   "metadata": {},
   "outputs": [],
   "source": [
    "from pyspark import SparkContext, SparkConf\n",
    "from pyspark.sql import SparkSession\n",
    "from pyspark.sql.window import Window\n",
    "from pyspark.sql.functions import col, row_number, sum, max, avg, expr, countDistinct, substring, desc"
   ]
  },
  {
   "cell_type": "code",
   "execution_count": 2,
   "id": "2a7cbd31",
   "metadata": {
    "scrolled": true
   },
   "outputs": [
    {
     "data": {
      "text/html": [
       "\n",
       "            <div>\n",
       "                <p><b>SparkSession - in-memory</b></p>\n",
       "                \n",
       "        <div>\n",
       "            <p><b>SparkContext</b></p>\n",
       "\n",
       "            <p><a href=\"http://SUMZ:4040\">Spark UI</a></p>\n",
       "\n",
       "            <dl>\n",
       "              <dt>Version</dt>\n",
       "                <dd><code>v3.4.1</code></dd>\n",
       "              <dt>Master</dt>\n",
       "                <dd><code>local[*]</code></dd>\n",
       "              <dt>AppName</dt>\n",
       "                <dd><code>Workshop 1</code></dd>\n",
       "            </dl>\n",
       "        </div>\n",
       "        \n",
       "            </div>\n",
       "        "
      ],
      "text/plain": [
       "<pyspark.sql.session.SparkSession at 0x1c749ee6810>"
      ]
     },
     "execution_count": 2,
     "metadata": {},
     "output_type": "execute_result"
    }
   ],
   "source": [
    "spark = (SparkSession.builder\n",
    "          .master(\"local[*]\") \\\n",
    "          .appName(\"Workshop 1\") \\\n",
    "          .getOrCreate()\n",
    "        )\n",
    "\n",
    "spark"
   ]
  },
  {
   "cell_type": "code",
   "execution_count": 3,
   "id": "acaafc42",
   "metadata": {},
   "outputs": [],
   "source": [
    "dfs_ph = spark.read.csv(\"product_hierarchy.csv\", header=True, inferSchema=True)\n",
    "dfs_sales = spark.read.csv(\"sales.csv\", header=True, inferSchema=True)\n",
    "dfs_sc = spark.read.csv(\"store_cities.csv\", header=True, inferSchema=True)"
   ]
  },
  {
   "cell_type": "markdown",
   "id": "38bcfedd",
   "metadata": {},
   "source": [
    "## Analizar datos"
   ]
  },
  {
   "cell_type": "code",
   "execution_count": 4,
   "id": "88e24597",
   "metadata": {
    "scrolled": false
   },
   "outputs": [
    {
     "name": "stdout",
     "output_type": "stream",
     "text": [
      "+----------+--------+----------+-----+-------+-----+-----+------------+-----------+------------+-----------+----------------+---------------------+\n",
      "|product_id|store_id|date      |sales|revenue|stock|price|promo_type_1|promo_bin_1|promo_type_2|promo_bin_2|promo_discount_2|promo_discount_type_2|\n",
      "+----------+--------+----------+-----+-------+-----+-----+------------+-----------+------------+-----------+----------------+---------------------+\n",
      "|P0001     |S0002   |2017-01-02|0.0  |0.0    |8.0  |6.25 |PR14        |null       |PR03        |null       |null            |null                 |\n",
      "|P0001     |S0012   |2017-01-02|1.0  |5.3    |0.0  |6.25 |PR14        |null       |PR03        |null       |null            |null                 |\n",
      "|P0001     |S0013   |2017-01-02|2.0  |10.59  |0.0  |6.25 |PR14        |null       |PR03        |null       |null            |null                 |\n",
      "|P0001     |S0023   |2017-01-02|0.0  |0.0    |6.0  |6.25 |PR14        |null       |PR03        |null       |null            |null                 |\n",
      "|P0001     |S0025   |2017-01-02|0.0  |0.0    |1.0  |6.25 |PR14        |null       |PR03        |null       |null            |null                 |\n",
      "|P0001     |S0027   |2017-01-02|0.0  |0.0    |7.0  |6.25 |PR14        |null       |PR03        |null       |null            |null                 |\n",
      "|P0001     |S0040   |2017-01-02|0.0  |0.0    |19.0 |6.25 |PR14        |null       |PR03        |null       |null            |null                 |\n",
      "|P0001     |S0049   |2017-01-02|0.0  |0.0    |8.0  |6.25 |PR14        |null       |PR03        |null       |null            |null                 |\n",
      "|P0001     |S0050   |2017-01-02|0.0  |0.0    |5.0  |6.25 |PR14        |null       |PR03        |null       |null            |null                 |\n",
      "|P0001     |S0051   |2017-01-02|0.0  |0.0    |6.0  |6.25 |PR14        |null       |PR03        |null       |null            |null                 |\n",
      "+----------+--------+----------+-----+-------+-----+-----+------------+-----------+------------+-----------+----------------+---------------------+\n",
      "only showing top 10 rows\n",
      "\n",
      "+----------+--------------+-------------+-------------+----------+-------------+-------------+-------------+-------------+-------------+\n",
      "|product_id|product_length|product_depth|product_width|cluster_id|hierarchy1_id|hierarchy2_id|hierarchy3_id|hierarchy4_id|hierarchy5_id|\n",
      "+----------+--------------+-------------+-------------+----------+-------------+-------------+-------------+-------------+-------------+\n",
      "|P0000     |5.0           |20.0         |12.0         |null      |H00          |H0004        |H000401      |H00040105    |H0004010534  |\n",
      "|P0001     |13.5          |22.0         |20.0         |cluster_5 |H01          |H0105        |H010501      |H01050100    |H0105010006  |\n",
      "|P0002     |22.0          |40.0         |22.0         |cluster_0 |H03          |H0315        |H031508      |H03150800    |H0315080028  |\n",
      "|P0004     |2.0           |13.0         |4.0          |cluster_3 |H03          |H0314        |H031405      |H03140500    |H0314050003  |\n",
      "|P0005     |16.0          |30.0         |16.0         |cluster_9 |H03          |H0312        |H031211      |H03121109    |H0312110917  |\n",
      "|P0006     |8.5           |15.0         |15.0         |cluster_0 |H03          |H0316        |H031608      |H03160817    |H0316081708  |\n",
      "|P0007     |2.0           |22.0         |9.5          |cluster_4 |H03          |H0313        |H031305      |H03130519    |H0313051904  |\n",
      "|P0008     |5.0           |16.0         |5.0          |cluster_0 |H00          |H0000        |H000004      |H00000400    |H0000040017  |\n",
      "|P0009     |5.0           |18.0         |14.0         |cluster_6 |H00          |H0002        |H000201      |H00020100    |H0002010012  |\n",
      "|P0010     |2.0           |22.0         |3.0          |cluster_0 |H01          |H0108        |H010801      |H01080109    |H0108010917  |\n",
      "+----------+--------------+-------------+-------------+----------+-------------+-------------+-------------+-------------+-------------+\n",
      "only showing top 10 rows\n",
      "\n",
      "+--------+------------+----------+-------+\n",
      "|store_id|storetype_id|store_size|city_id|\n",
      "+--------+------------+----------+-------+\n",
      "|S0091   |ST04        |19        |C013   |\n",
      "|S0012   |ST04        |28        |C005   |\n",
      "|S0045   |ST04        |17        |C008   |\n",
      "|S0032   |ST03        |14        |C019   |\n",
      "|S0027   |ST04        |24        |C022   |\n",
      "|S0088   |ST04        |20        |C009   |\n",
      "|S0095   |ST02        |44        |C014   |\n",
      "|S0055   |ST04        |24        |C014   |\n",
      "|S0099   |ST03        |14        |C014   |\n",
      "|S0078   |ST04        |19        |C036   |\n",
      "+--------+------------+----------+-------+\n",
      "only showing top 10 rows\n",
      "\n"
     ]
    }
   ],
   "source": [
    "dfs_sales.show(10, False)\n",
    "dfs_ph.show(10, False)\n",
    "dfs_sc.show(10, False)"
   ]
  },
  {
   "cell_type": "code",
   "execution_count": 6,
   "id": "a7cb5a1e",
   "metadata": {
    "scrolled": true
   },
   "outputs": [
    {
     "name": "stdout",
     "output_type": "stream",
     "text": [
      "root\n",
      " |-- product_id: string (nullable = true)\n",
      " |-- store_id: string (nullable = true)\n",
      " |-- date: date (nullable = true)\n",
      " |-- sales: double (nullable = true)\n",
      " |-- revenue: double (nullable = true)\n",
      " |-- stock: double (nullable = true)\n",
      " |-- price: double (nullable = true)\n",
      " |-- promo_type_1: string (nullable = true)\n",
      " |-- promo_bin_1: string (nullable = true)\n",
      " |-- promo_type_2: string (nullable = true)\n",
      " |-- promo_bin_2: string (nullable = true)\n",
      " |-- promo_discount_2: double (nullable = true)\n",
      " |-- promo_discount_type_2: string (nullable = true)\n",
      "\n",
      "root\n",
      " |-- product_id: string (nullable = true)\n",
      " |-- product_length: double (nullable = true)\n",
      " |-- product_depth: double (nullable = true)\n",
      " |-- product_width: double (nullable = true)\n",
      " |-- cluster_id: string (nullable = true)\n",
      " |-- hierarchy1_id: string (nullable = true)\n",
      " |-- hierarchy2_id: string (nullable = true)\n",
      " |-- hierarchy3_id: string (nullable = true)\n",
      " |-- hierarchy4_id: string (nullable = true)\n",
      " |-- hierarchy5_id: string (nullable = true)\n",
      "\n",
      "root\n",
      " |-- store_id: string (nullable = true)\n",
      " |-- storetype_id: string (nullable = true)\n",
      " |-- store_size: integer (nullable = true)\n",
      " |-- city_id: string (nullable = true)\n",
      "\n"
     ]
    }
   ],
   "source": [
    "dfs_sales.printSchema()\n",
    "dfs_ph.printSchema()\n",
    "dfs_sc.printSchema()"
   ]
  },
  {
   "cell_type": "markdown",
   "id": "ea3d5bb2",
   "metadata": {},
   "source": [
    "## Primer Punto\n",
    "Quisiera saber cuáles fueron los productos más populares cada mes durante el año 2018. ¿Me puedes mostrar esa información?"
   ]
  },
  {
   "cell_type": "code",
   "execution_count": 76,
   "id": "0e114aa1",
   "metadata": {},
   "outputs": [
    {
     "name": "stdout",
     "output_type": "stream",
     "text": [
      "Los productos más populares (top 3) cada mes del 2018 fueron: \n",
      "+---+----------+-----------+---------------+\n",
      "|mes|product_id|total_sales|popularity_rank|\n",
      "+---+----------+-----------+---------------+\n",
      "| 01|     P0438|    21326.0|              1|\n",
      "| 01|     P0103|    19046.0|              2|\n",
      "| 01|     P0364|     7984.0|              3|\n",
      "| 02|     P0438|    21485.0|              1|\n",
      "| 02|     P0103|    16474.0|              2|\n",
      "| 02|     P0051|     7555.0|              3|\n",
      "| 03|     P0438|    23154.0|              1|\n",
      "| 03|     P0103|    17923.0|              2|\n",
      "| 03|     P0388|    11840.0|              3|\n",
      "| 04|     P0438|    24392.0|              1|\n",
      "| 04|     P0103|    19166.0|              2|\n",
      "| 04|     P0388|    10965.0|              3|\n",
      "| 05|     P0438|    23780.0|              1|\n",
      "| 05|     P0103|    23542.0|              2|\n",
      "| 05|     P0058|    19159.0|              3|\n",
      "| 06|     P0103|    26307.0|              1|\n",
      "| 06|     P0438|    24387.0|              2|\n",
      "| 06|     P0388|     9111.0|              3|\n",
      "| 07|     P0103|    27884.0|              1|\n",
      "| 07|     P0438|    27416.0|              2|\n",
      "| 07|     P0388|    10402.0|              3|\n",
      "| 08|     P0103|    29185.0|              1|\n",
      "| 08|     P0438|    28379.0|              2|\n",
      "| 08|     P0388|     9988.0|              3|\n",
      "| 09|     P0438|    32882.0|              1|\n",
      "| 09|     P0103|    20921.0|              2|\n",
      "| 09|     P0388|    11778.0|              3|\n",
      "| 10|     P0438|    21267.0|              1|\n",
      "| 10|     P0103|    18072.0|              2|\n",
      "| 10|     P0364|    10798.0|              3|\n",
      "| 11|     P0103|    15434.0|              1|\n",
      "| 11|     P0388|     9822.0|              2|\n",
      "| 11|     P0364|     8409.0|              3|\n",
      "| 12|     P0103|    19405.0|              1|\n",
      "| 12|     P0388|    12112.0|              2|\n",
      "| 12|     P0364|    12000.0|              3|\n",
      "+---+----------+-----------+---------------+\n",
      "\n"
     ]
    }
   ],
   "source": [
    "# Filtrar los datos para incluir solo el año 2018 y agrupar por mes y product_id\n",
    "filtered_grouped = dfs_sales.filter(dfs_sales.date.substr(1, 4) == \"2018\") \\\n",
    "    .groupBy(dfs_sales.date.substr(6, 2).alias(\"mes\"), \"product_id\") \\\n",
    "    .agg(sum(\"sales\").alias(\"total_sales\"))\n",
    "\n",
    "# Definir la ventana de ordenamiento por mes y total_sales\n",
    "window_config = Window.partitionBy(\"mes\").orderBy(col(\"total_sales\").desc())\n",
    "\n",
    "# Agregar una columna con el ranking de popularidad dentro de cada mes utilizando la función de ventana row_number\n",
    "ordered_products = filtered_grouped.withColumn(\"popularity_rank\", row_number().over(window_config))\n",
    "\n",
    "# Filtrar para mostrar los 3 productos más populares cada mes\n",
    "result = ordered_products.filter((ordered_products.popularity_rank == 1)|(ordered_products.popularity_rank == 2)|(ordered_products.popularity_rank == 3))\n",
    "\n",
    "print(\"Los productos más populares (top 3) cada mes del 2018 fueron: \")\n",
    "result.show(100)"
   ]
  },
  {
   "cell_type": "markdown",
   "id": "6b760f47",
   "metadata": {},
   "source": [
    "## Segundo Punto\n",
    "Necesito saber en cuántas tiendas se implementaron promociones del tipo 1 en el canal 1 durante el año 2019. ¿Puedes darme ese dato?"
   ]
  },
  {
   "cell_type": "code",
   "execution_count": 73,
   "id": "0956df48",
   "metadata": {},
   "outputs": [
    {
     "name": "stdout",
     "output_type": "stream",
     "text": [
      "La cantidad de tiendas que implementaron promociones del tipo 1 en el canal 1 durante el 2019 fue: \n"
     ]
    },
    {
     "data": {
      "text/plain": [
       "131"
      ]
     },
     "execution_count": 73,
     "metadata": {},
     "output_type": "execute_result"
    }
   ],
   "source": [
    "#Se filtra por promociones tipo 1 en canal 1 en el 2019\n",
    "#Se cuentan los distintos store_id en los resultados\n",
    "\n",
    "print(\"La cantidad de tiendas que implementaron promociones del tipo 1 en el canal 1 durante el 2019 fue: \")\n",
    "dfs_sales.filter((dfs_sales.promo_type_1 == \"PR01\") & (dfs_sales.date.substr(1, 4) == \"2019\")).select(dfs_sales.store_id).distinct().count()\n"
   ]
  },
  {
   "cell_type": "markdown",
   "id": "12bea482",
   "metadata": {},
   "source": [
    "## Tercer Punto\n",
    "Me gustaría saber cuál fue la ciudad que tuvo el mayor volumen de ventas en general durante todo el periodo de 2017 a 2019. ¿Tienes esa información disponible?"
   ]
  },
  {
   "cell_type": "code",
   "execution_count": 60,
   "id": "1eba4aa8",
   "metadata": {},
   "outputs": [
    {
     "name": "stdout",
     "output_type": "stream",
     "text": [
      "La ciudad con el mayor volumen de ventas durante el periodo de 2017 a 2019 es: C014\n",
      "Su volumen de ventas fue de: 14938799.728319883\n"
     ]
    }
   ],
   "source": [
    "# Filtrar los datos del periodo de 2017 a 2019\n",
    "filtered_sales = dfs_sales.filter(col(\"date\").substr(1, 4).isin([\"2017\", \"2018\", \"2019\"]))\n",
    "\n",
    "# Calcular el volumen vendido por ciudad\n",
    "volumen_ciudad = filtered_sales.join(dfs_sc, \"store_id\").groupBy(\"city_id\").agg(sum(col(\"sales\") * col(\"price\")).alias(\"volumen_ventas\"))\n",
    "\n",
    "# Obtener la ciudad con el mayor volumen de ventas\n",
    "ciudad_max_ventas = volumen_ciudad.orderBy(col(\"volumen_ventas\").desc()).first()\n",
    "\n",
    "print(\"La ciudad con el mayor volumen de ventas durante el periodo de 2017 a 2019 es:\", ciudad_max_ventas[\"city_id\"])\n",
    "print(\"Su volumen de ventas fue de:\", ciudad_max_ventas[\"volumen_ventas\"])\n"
   ]
  },
  {
   "cell_type": "markdown",
   "id": "d0690000",
   "metadata": {},
   "source": [
    "## Cuarto Punto\n",
    "¿Podrías decirme cuál fue el promedio de stock disponible en todas las tiendas durante el año 2017? Estoy interesado en conocer ese dato"
   ]
  },
  {
   "cell_type": "code",
   "execution_count": 67,
   "id": "90273dc0",
   "metadata": {},
   "outputs": [
    {
     "name": "stdout",
     "output_type": "stream",
     "text": [
      "El promedio general de stock en todas las tiendas en 2017 fue: \n",
      "+---------------------+\n",
      "|promedio_general_2017|\n",
      "+---------------------+\n",
      "|   16.615350795266167|\n",
      "+---------------------+\n",
      "\n",
      "El promedio de stock por tienda en 2017 fue: \n",
      "+--------+-------------------+\n",
      "|store_id|promedio_stock_2017|\n",
      "+--------+-------------------+\n",
      "|   S0049|  14.86694605722625|\n",
      "|   S0010| 11.758221077776073|\n",
      "|   S0030| 12.350466651491008|\n",
      "|   S0120| 13.126194528079592|\n",
      "|   S0086| 12.088783569563597|\n",
      "|   S0128| 11.848498394473097|\n",
      "|   S0111| 14.453828020908066|\n",
      "|   S0139| 12.155888753773901|\n",
      "|   S0142| 15.901350640633625|\n",
      "|   S0112|  24.17188840759076|\n",
      "|   S0078| 10.855298144606344|\n",
      "|   S0077|  12.31337453646477|\n",
      "|   S0023| 15.558630356109838|\n",
      "|   S0073| 11.644466174874173|\n",
      "|   S0081| 13.045722994652406|\n",
      "|   S0126| 17.929184557658843|\n",
      "|   S0019| 21.809544754783374|\n",
      "|   S0051| 25.411594207932886|\n",
      "|   S0103| 13.227522333637193|\n",
      "|   S0107| 11.916089677250488|\n",
      "+--------+-------------------+\n",
      "only showing top 20 rows\n",
      "\n"
     ]
    }
   ],
   "source": [
    "#Filtramos para el año 2017\n",
    "filtered_sales = dfs_sales.filter(col(\"date\").substr(1, 4).isin([\"2017\"]))\n",
    "\n",
    "#Obtenemos el promedio de stock en general\n",
    "stock_avg = filtered_sales.select(avg(col(\"stock\")).alias(\"promedio_general_2017\"))\n",
    "\n",
    "print(\"El promedio general de stock en todas las tiendas en 2017 fue: \")\n",
    "stock_avg.show()\n",
    "\n",
    "group_store = filtered_sales.groupBy(\"store_id\").agg(avg(col(\"stock\")).alias(\"promedio_stock_2017\"))\n",
    "\n",
    "print(\"El promedio de stock por tienda en 2017 fue: \")\n",
    "\n",
    "group_store.show()"
   ]
  },
  {
   "cell_type": "markdown",
   "id": "faaca248",
   "metadata": {},
   "source": [
    "## Quinto Punto\n",
    "Estoy buscando saber cuántas veces se aplicaron descuentos en el canal 2 durante el mes de diciembre de 2018. ¿Puedes ayudarme con esa información?"
   ]
  },
  {
   "cell_type": "code",
   "execution_count": 72,
   "id": "6d8f36ba",
   "metadata": {},
   "outputs": [
    {
     "name": "stdout",
     "output_type": "stream",
     "text": [
      "La cantidad de descuentos en el canal 2 durante el mes de diciembre de 2018 fue: \n"
     ]
    },
    {
     "data": {
      "text/plain": [
       "0"
      ]
     },
     "execution_count": 72,
     "metadata": {},
     "output_type": "execute_result"
    }
   ],
   "source": [
    "#Filtramos las ventas de diciembre de 2018\n",
    "filtered_sales = dfs_sales.filter((col(\"date\").substr(1,4) == '2018')&(col(\"date\").substr(6,2) == '12'))\n",
    "\n",
    "#Filtramos las ventas que tengan descuentos registrados en el canal 2\n",
    "discounts2_sales = filtered_sales.filter((col(\"promo_discount_2\")!=''))\n",
    "\n",
    "#Contamos la cantidad de filas\n",
    "result = discounts2_sales.count()\n",
    "\n",
    "print(\"La cantidad de descuentos en el canal 2 durante el mes de diciembre de 2018 fue: \")\n",
    "result"
   ]
  },
  {
   "cell_type": "markdown",
   "id": "22cc90f3",
   "metadata": {},
   "source": [
    "## Sexto Punto\n",
    "¿Cuál fue el producto con el precio de venta más alto en cada tienda durante el tercer trimestre de 2019? Me gustaría conocer esos detalles."
   ]
  },
  {
   "cell_type": "code",
   "execution_count": null,
   "id": "623ff79d",
   "metadata": {},
   "outputs": [],
   "source": []
  },
  {
   "cell_type": "markdown",
   "id": "14cfec0d",
   "metadata": {},
   "source": [
    "## Septimo Punto\n",
    "Estoy interesado en saber cuántas tiendas experimentaron un aumento de ventas del 20% o más en comparación con el año anterior. ¿Tienes esos datos disponibles?"
   ]
  },
  {
   "cell_type": "code",
   "execution_count": 92,
   "id": "e012b6d6",
   "metadata": {},
   "outputs": [
    {
     "name": "stdout",
     "output_type": "stream",
     "text": [
      "La cantidad de tiendas que experimentaron un aumento en ventas del 20% o mas con respecto al año anterior en cualquier año es: \n",
      "+------------------------+\n",
      "|cantidad_tiendas_aumento|\n",
      "+------------------------+\n",
      "|                     123|\n",
      "+------------------------+\n",
      "\n",
      "La cantidad de tiendas que experimentaron un aumento en ventas del 20% o mas con respecto al año anterior en cada año es: \n",
      "+----+------------------------+\n",
      "|year|cantidad_tiendas_aumento|\n",
      "+----+------------------------+\n",
      "|2019|                      55|\n",
      "|2018|                      97|\n",
      "+----+------------------------+\n",
      "\n"
     ]
    }
   ],
   "source": [
    "#Obtenemos una subquery con el total vendido por año en cada tienda. \n",
    "sq = dfs_sales.select(\n",
    "    dfs_sales.store_id,\n",
    "    substring(dfs_sales.date, 1, 4).alias('year'),\n",
    "    (dfs_sales.sales * dfs_sales.price).alias('vendido_tienda_anio')\n",
    ").groupBy('store_id', 'year').agg(sum('vendido_tienda_anio').alias('vendido_tienda_anio'))\n",
    "\n",
    "#Hacemos un join de sq con él mismo para quedarnos únicamente con las filas que relacionen año siguiente con año anterior\n",
    "tiendas_aumento = sq.alias('s1').join(sq.alias('s2'), (col('s1.store_id') == col('s2.store_id')) & (expr('CAST(s1.year AS INTEGER) + 1') == expr('CAST(s2.year AS INTEGER)')) )\n",
    "\n",
    "#Verificamos únicamente las que hayan tenido un aumento de año a año del 20% o más\n",
    "cantidad_tiendas_aumento = tiendas_aumento.where(col('s2.vendido_tienda_anio') >= 1.2 * col('s1.vendido_tienda_anio')).select(countDistinct('s1.store_id').alias('cantidad_tiendas_aumento'))\n",
    "\n",
    "print('La cantidad de tiendas que experimentaron un aumento en ventas del 20% o mas con respecto al año anterior en cualquier año es: ')\n",
    "cantidad_tiendas_aumento.show()\n",
    "\n",
    "#Agrupamos por año\n",
    "cantidad_tiendas_aumento_poranio = tiendas_aumento.where(col('s2.vendido_tienda_anio') >= 1.2 * col('s1.vendido_tienda_anio')).groupBy('s2.year').agg(countDistinct('s2.store_id').alias('cantidad_tiendas_aumento'))\n",
    "\n",
    "print('La cantidad de tiendas que experimentaron un aumento en ventas del 20% o mas con respecto al año anterior en cada año es: ')\n",
    "\n",
    "cantidad_tiendas_aumento_poranio.show()"
   ]
  },
  {
   "cell_type": "markdown",
   "id": "341efbd3",
   "metadata": {},
   "source": [
    "## Octavo Punto"
   ]
  },
  {
   "cell_type": "markdown",
   "id": "eaa1e699",
   "metadata": {},
   "source": [
    "## Noveno Punto\n",
    "¿Sabes en qué mes y año se registró la mayor cantidad de ingresos generados en todas las tiendas? Estoy interesado en conocer ese dato importante.\n"
   ]
  },
  {
   "cell_type": "code",
   "execution_count": 116,
   "id": "3f6e3ddc",
   "metadata": {},
   "outputs": [
    {
     "name": "stdout",
     "output_type": "stream",
     "text": [
      "El mes y el año en el que se registraron mayores ingresos son: \n",
      "+----+---+-----------------+\n",
      "|year|mes|     total_ventas|\n",
      "+----+---+-----------------+\n",
      "|2019| 08|3017319.981699866|\n",
      "+----+---+-----------------+\n",
      "\n"
     ]
    }
   ],
   "source": [
    "result = dfs_sales.select(\n",
    "    substring(dfs_sales.date, 1, 4).alias('year'),\n",
    "    substring(dfs_sales.date, 6, 2).alias('mes'),\n",
    "    (dfs_sales.price * dfs_sales.sales).alias('ventas')\n",
    ").groupBy('year', 'mes').agg(sum('ventas').alias('total_ventas')).orderBy(desc('total_ventas')).limit(1)\n",
    "\n",
    "print(\"El mes y el año en el que se registraron mayores ingresos son: \")\n",
    "# Mostrar el resultado\n",
    "result.show()\n"
   ]
  },
  {
   "cell_type": "markdown",
   "id": "22866332",
   "metadata": {},
   "source": [
    "## Decimo Punto\n",
    "Me gustaría saber cuál fue el tamaño promedio de las tiendas en cada ciudad durante el año 2018. ¿Puedes darme esa información?"
   ]
  },
  {
   "cell_type": "markdown",
   "id": "d5b2ad70",
   "metadata": {},
   "source": [
    "<details>\n",
    "    <summary><b> Respuestas </b></summary> \n",
    "    \n",
    "    df.printSchema()\n",
    "    df.show()\n",
    "    df.describe()    \n",
    "    \n",
    "</details>"
   ]
  },
  {
   "cell_type": "markdown",
   "id": "2c03aede",
   "metadata": {},
   "source": [
    "## Filter"
   ]
  },
  {
   "cell_type": "code",
   "execution_count": null,
   "id": "dd6b69ec",
   "metadata": {},
   "outputs": [],
   "source": []
  },
  {
   "cell_type": "markdown",
   "id": "c077cf95",
   "metadata": {},
   "source": [
    "<details>\n",
    "    <summary><b> Respuestas </b></summary> \n",
    "    \n",
    "    df.filter(SQL EXPRESSION)\n",
    "    df.filter(df.column==cond)\n",
    "    df.select(columns_to_select)\n",
    "    \n",
    "    \n",
    "</details>"
   ]
  },
  {
   "cell_type": "markdown",
   "id": "bb71a9eb",
   "metadata": {},
   "source": [
    "## When"
   ]
  },
  {
   "cell_type": "code",
   "execution_count": null,
   "id": "b481ddaf",
   "metadata": {},
   "outputs": [],
   "source": []
  },
  {
   "cell_type": "markdown",
   "id": "0eacfd71",
   "metadata": {},
   "source": [
    "<details>\n",
    "    <summary><b> Respuestas </b></summary>\n",
    "    \n",
    "    df = df .withColumn(\n",
    "        'col_name', \n",
    "        F.when(F.col('col_name') >= 0 , F.col('col_name'))\n",
    "        .otherwise(0))\n",
    "</details>                                                                              "
   ]
  },
  {
   "cell_type": "markdown",
   "id": "1dd5ceac",
   "metadata": {},
   "source": [
    "## Formatting date"
   ]
  },
  {
   "cell_type": "code",
   "execution_count": null,
   "id": "0f01c986",
   "metadata": {},
   "outputs": [],
   "source": []
  },
  {
   "cell_type": "markdown",
   "id": "a2b532c9",
   "metadata": {},
   "source": [
    "<details>\n",
    "    <summary><b> Respuestas </b></summary>\n",
    "    \n",
    "    df = df.withColumn('time', F.from_unixtime('time', 'yyyy-MM-dd'))\n",
    "</details>       "
   ]
  },
  {
   "attachments": {
    "image.png": {
     "image/png": "[encoded data removed]"
    }
   },
   "cell_type": "markdown",
   "id": "7a059954",
   "metadata": {},
   "source": [
    "## Aggregations\n",
    "\n",
    "![image.png](attachment:image.png)"
   ]
  },
  {
   "cell_type": "code",
   "execution_count": null,
   "id": "a55a6329",
   "metadata": {
    "scrolled": false
   },
   "outputs": [],
   "source": []
  },
  {
   "cell_type": "markdown",
   "id": "6232911b",
   "metadata": {},
   "source": [
    "<details>\n",
    "    <summary><b> Respuestas </b></summary>\n",
    "    \n",
    "    df = df = df.groupBy('concepto_1',\n",
    "                         'concepto_2',\n",
    "                         'concepto_3',\n",
    "                         'concepto_4') \\\n",
    "        .agg(\n",
    "             F.sum('col_1').alias('new_name'), \\\n",
    "             F.sum('col_2').alias('new_name'), \\\n",
    "             F.count('col_3').alias('new_name'), \\\n",
    "             F.countDistinct('col_3').alias('new_name'), \\\n",
    "             F.avg('col_4').alias('new_name')              \n",
    "     )\n",
    "</details>   \n"
   ]
  },
  {
   "cell_type": "code",
   "execution_count": null,
   "id": "76c5e1ae",
   "metadata": {},
   "outputs": [],
   "source": []
  },
  {
   "cell_type": "markdown",
   "id": "3b94159c",
   "metadata": {},
   "source": [
    "## Join"
   ]
  },
  {
   "cell_type": "code",
   "execution_count": null,
   "id": "4a27dc4f",
   "metadata": {},
   "outputs": [],
   "source": []
  },
  {
   "cell_type": "markdown",
   "id": "592fc5f3",
   "metadata": {},
   "source": [
    "<details>\n",
    "    <summary><b> Respuestas </b></summary> \n",
    "    \n",
    "    df_1 = df_1.join(df_2, \n",
    "                        df_1.key == df_2.key,\n",
    "                       'left')\n",
    "    \n",
    "    \n",
    "</details>"
   ]
  },
  {
   "cell_type": "markdown",
   "id": "230b8b10",
   "metadata": {},
   "source": []
  },
  {
   "cell_type": "markdown",
   "id": "9d60fb8e",
   "metadata": {},
   "source": []
  },
  {
   "cell_type": "markdown",
   "id": "64359e89",
   "metadata": {},
   "source": []
  },
  {
   "cell_type": "markdown",
   "id": "1a416ca7",
   "metadata": {},
   "source": []
  },
  {
   "cell_type": "markdown",
   "id": "2cb9e7c8",
   "metadata": {},
   "source": [
    "# SQL"
   ]
  },
  {
   "cell_type": "markdown",
   "id": "a05c4107",
   "metadata": {},
   "source": [
    "# Taller de SQL\n",
    "\n",
    "Para la parte del taller de SQL, te propongo realizar el mismo ejercicio que se te planteó anteriormente, pero esta vez utilizando una base de datos SQLite o PostgreSQL, según tu preferencia. Esto te permitirá demostrar tus conocimientos en SQL y practicar la resolución de las preguntas de negocio utilizando consultas en un entorno real de bases de datos.\n",
    "\n",
    "A continuación, te indico los pasos generales para realizar el ejercicio con una base de datos SQLite o PostgreSQL:\n",
    "\n",
    "1. **Descarga e instala SQLite o PostgreSQL:** Si eliges SQLite, puedes descargarlo desde el [sitio web oficial](https://www.sqlite.org/download.html) e instalarlo en tu máquina. Si prefieres utilizar PostgreSQL, puedes descargarlo desde el [sitio web oficial](https://www.postgresql.org/download/) y seguir las instrucciones de instalación correspondientes a tu sistema operativo.\n",
    "\n",
    "2. **Utiliza una herramienta de administración de bases de datos:** Abre una herramienta de administración de bases de datos, como DBeaver ([https://dbeaver.io/](https://dbeaver.io/)) u otra de tu elección, que sea compatible con SQLite o PostgreSQL.\n",
    "\n",
    "3. **Conecta con la base de datos existente:** Configura la conexión en la herramienta seleccionada para conectar con una base de datos SQLite o PostgreSQL existente. Si utilizas SQLite, puedes indicar la ruta del archivo de la base de datos (`.db`) que creaste anteriormente. Si optas por PostgreSQL, proporciona los datos de conexión correspondientes (host, puerto, nombre de la base de datos, usuario y contraseña).\n",
    "\n",
    "4. **Importa los datos:** Utiliza la función de importación de la herramienta seleccionada para cargar los datos de las tres tablas que te proporcionaron anteriormente en la base de datos existente.\n",
    "\n",
    "5. **Responde las preguntas de negocio:** Utiliza consultas SQL en la herramienta de administración de bases de datos para responder las preguntas de negocio planteadas previamente. Puedes escribir las consultas en la interfaz de consulta SQL de la herramienta y ejecutarlas para obtener los resultados deseados.\n",
    "\n",
    "Recuerda que puedes utilizar DBeaver u otra herramienta similar para ejecutar las consultas y visualizar los resultados. Estas herramientas te brindarán una interfaz gráfica para escribir y ejecutar las consultas SQL, así como para examinar los datos y obtener los resultados deseados.\n",
    "\n",
    "Si tienes alguna pregunta o necesitas orientación adicional, no dudes en consultarme. ¡Buena suerte con el ejercicio de SQL!\n",
    "\n"
   ]
  },
  {
   "cell_type": "markdown",
   "id": "e00d0239",
   "metadata": {},
   "source": [
    "## Primer Punto\n",
    "Quisiera saber cuáles fueron los productos más populares cada mes durante el año 2018. ¿Me puedes mostrar esa información?"
   ]
  },
  {
   "cell_type": "code",
   "execution_count": null,
   "id": "0a51f507",
   "metadata": {},
   "outputs": [],
   "source": [
    "SELECT mes, anio, product_id, ventas\n",
    "FROM (\n",
    "    SELECT mes, anio, product_id, ventas, \n",
    "           ROW_NUMBER() OVER (PARTITION BY mes ORDER BY ventas DESC) AS rn\n",
    "    FROM (\n",
    "        SELECT SUBSTR(date, 1, 4) AS anio, product_id, SUM(sales) AS ventas, SUBSTR(date, 6, 2) AS mes\n",
    "        FROM sales\n",
    "        WHERE anio = '2018'\n",
    "        GROUP BY mes, anio, product_id\n",
    "    ) subquery_agrupacion\n",
    ") query_partition\n",
    "WHERE rn = 1;"
   ]
  },
  {
   "cell_type": "markdown",
   "id": "35a0218f",
   "metadata": {},
   "source": [
    "## Segundo Punto\n",
    "Necesito saber en cuántas tiendas se implementaron promociones del tipo 1 en el canal 1 durante el año 2019. ¿Puedes darme ese dato?"
   ]
  },
  {
   "cell_type": "code",
   "execution_count": null,
   "id": "ff961f4f",
   "metadata": {},
   "outputs": [],
   "source": [
    "SELECT COUNT(DISTINCT store_id) as numero_tiendas\n",
    "FROM sales\n",
    "WHERE SUBSTR(date, 1, 4) = '2019' AND promo_type_1 = 'PR01';"
   ]
  },
  {
   "cell_type": "markdown",
   "id": "4373ee0e",
   "metadata": {},
   "source": [
    "## Tercer Punto\n",
    "Me gustaría saber cuál fue la ciudad que tuvo el mayor volumen de ventas en general durante todo el periodo de 2017 a 2019. \n",
    "¿Tienes esa información disponible?"
   ]
  },
  {
   "cell_type": "code",
   "execution_count": null,
   "id": "d6e6e4af",
   "metadata": {},
   "outputs": [],
   "source": [
    "SELECT city_id, MAX(vendido_ciudad) as maximo_vendido \n",
    "FROM (SELECT city_id, SUM(subquery_volumen_ventas.vendido) as vendido_ciudad \n",
    "FROM (SELECT sales.store_id, SUM(sales.sales*sales.price) as vendido\n",
    "FROM sales\n",
    "WHERE (SUBSTR(sales.date, 1, 4) = '2017' OR SUBSTR(sales.date, 1, 4) = '2018' OR SUBSTR(sales.date, 1, 4) = '2019')\n",
    "GROUP BY sales.store_id) subquery_volumen_ventas INNER JOIN store_cities ON subquery_volumen_ventas.store_id = store_cities.store_id\n",
    "GROUP BY city_id) subquery_volumen_ciudad;"
   ]
  },
  {
   "cell_type": "markdown",
   "id": "bf91c519",
   "metadata": {},
   "source": [
    "## Cuarto Punto\n",
    "¿Podrías decirme cuál fue el promedio de stock disponible en todas las tiendas durante el año 2017? Estoy interesado en conocer ese dato"
   ]
  },
  {
   "cell_type": "code",
   "execution_count": null,
   "id": "a9dc72cd",
   "metadata": {},
   "outputs": [],
   "source": [
    "SELECT AVG(stock) as promedio_2017\n",
    "FROM sales\n",
    "WHERE SUBSTR(sales.date, 1, 4) = '2017';\n",
    "\n",
    "SELECT store_id, AVG(stock) as promedio_2017\n",
    "FROM sales\n",
    "WHERE SUBSTR(sales.date, 1, 4) = '2017'\n",
    "GROUP BY store_id;"
   ]
  },
  {
   "cell_type": "markdown",
   "id": "636657d4",
   "metadata": {},
   "source": [
    "## Quinto Punto\n",
    "Estoy buscando saber cuántas veces se aplicaron descuentos en el canal 2 durante el mes de diciembre de 2018. \n",
    "¿Puedes ayudarme con esa información?"
   ]
  },
  {
   "cell_type": "code",
   "execution_count": null,
   "id": "fa70227a",
   "metadata": {},
   "outputs": [],
   "source": [
    "SELECT promo_discount_2 \n",
    "FROM sales\n",
    "WHERE SUBSTR(date, 1, 4) = '2018' AND SUBSTR(date, 6, 2) = '12' AND promo_discount_2 <> '';"
   ]
  },
  {
   "cell_type": "markdown",
   "id": "0f0538b0",
   "metadata": {},
   "source": [
    "<!-- ## Sexto Punto\n",
    "¿Cuál fue el producto con el precio de venta más alto en cada tienda durante el tercer trimestre de 2019? \n",
    "Me gustaría conocer esos detalles. -->"
   ]
  },
  {
   "cell_type": "markdown",
   "id": "0abcb598",
   "metadata": {},
   "source": [
    "## Sexto Punto\n",
    "¿Cuál fue el producto con el precio de venta más alto en cada tienda durante el tercer trimestre de 2019? \n",
    "Me gustaría conocer esos detalles."
   ]
  },
  {
   "cell_type": "code",
   "execution_count": null,
   "id": "a18ad6d7",
   "metadata": {},
   "outputs": [],
   "source": [
    "SELECT store_id, product_id, price\n",
    "FROM (\n",
    "    SELECT product_id, store_id, price,\n",
    "           ROW_NUMBER() OVER (PARTITION BY store_id ORDER BY price DESC) AS rn\n",
    "    FROM sales\n",
    "    WHERE price <> '' AND  SUBSTR(sales.date, 1, 4) = '2019' AND (SUBSTR(date, 6, 2) = '07' OR SUBSTR(date, 6, 2) = '08' OR SUBSTR(date, 6, 2) = '09')\n",
    ") sub\n",
    "WHERE rn = 1;"
   ]
  },
  {
   "cell_type": "markdown",
   "id": "54094ac1",
   "metadata": {},
   "source": [
    "## Septimo Punto\n",
    "Estoy interesado en saber cuántas tiendas experimentaron un aumento de ventas del 20% o más en comparación con el año anterior.\n",
    "¿Tienes esos datos disponibles?"
   ]
  },
  {
   "cell_type": "code",
   "execution_count": null,
   "id": "228c76a6",
   "metadata": {},
   "outputs": [],
   "source": [
    "Lista de las tiendas\n",
    "WITH subquery AS (SELECT store_id, SUBSTR(sales.date, 1, 4) as year, SUM(sales*price) as vendido_tienda_anio\n",
    "FROM sales \n",
    "GROUP BY store_id, year)\n",
    "SELECT s1.store_id as store_id_1, s2.store_id as store_id_2, s1.year as year_1, s2.year as year_2, \n",
    "s1.vendido_tienda_anio as vendido_tienda_anio_1, s2.vendido_tienda_anio as vendido_tienda_anio_2\n",
    "FROM subquery s1 INNER JOIN subquery s2 ON s1.store_id = s2.store_id\n",
    "WHERE CAST(s1.year AS INTEGER) + 1 = CAST(s2.year AS INTEGER)\n",
    "AND vendido_tienda_anio_2 >= 1.2*vendido_tienda_anio_1;\n",
    "\n",
    "Conteo de las tiendas general\n",
    "\n",
    "WITH sq AS (SELECT store_id, SUBSTR(sales.date, 1, 4) as year, SUM(sales*price) as vendido_tienda_anio\n",
    "FROM sales \n",
    "GROUP BY store_id, year)\n",
    "SELECT COUNT(DISTINCT s1.store_id) as cantidad_tiendas_aumento\n",
    "FROM sq s1 INNER JOIN sq s2 ON s1.store_id = s2.store_id\n",
    "WHERE CAST(s1.year AS INTEGER) + 1 = CAST(s2.year AS INTEGER)\n",
    "AND s2.vendido_tienda_anio >= 1.2*s1.vendido_tienda_anio;\n",
    "\n",
    "Conteo de las tiendas por año\n",
    "\n",
    "WITH sq AS (SELECT store_id, SUBSTR(sales.date, 1, 4) as year, SUM(sales*price) as vendido_tienda_anio\n",
    "FROM sales \n",
    "GROUP BY store_id, year)\n",
    "SELECT s2.year, COUNT(DISTINCT s1.store_id) as cantidad_tiendas_aumento\n",
    "FROM sq s1 INNER JOIN sq s2 ON s1.store_id = s2.store_id\n",
    "WHERE CAST(s1.year AS INTEGER) + 1 = CAST(s2.year AS INTEGER)\n",
    "AND s2.vendido_tienda_anio >= 1.2*s1.vendido_tienda_anio\n",
    "GROUP BY s2.year;"
   ]
  },
  {
   "cell_type": "markdown",
   "id": "3874c96b",
   "metadata": {},
   "source": [
    "## Octavo Punto"
   ]
  },
  {
   "cell_type": "markdown",
   "id": "1502421d",
   "metadata": {},
   "source": [
    "## Noveno Punto\n",
    "¿Sabes en qué mes y año se registró la mayor cantidad de ingresos generados en todas las tiendas? \n",
    "Estoy interesado en conocer ese dato importante."
   ]
  },
  {
   "cell_type": "code",
   "execution_count": null,
   "id": "d937f23f",
   "metadata": {},
   "outputs": [],
   "source": [
    "SELECT SUBSTR(sales.date, 1, 4) as year, SUBSTR(sales.date, 6, 2) as mes, SUM(price*sales) as ventas\n",
    "FROM sales\n",
    "GROUP BY year, mes\n",
    "ORDER BY ventas DESC\n",
    "LIMIT 1;"
   ]
  },
  {
   "cell_type": "markdown",
   "id": "7ad65e6d",
   "metadata": {},
   "source": [
    "# Decimo Punto"
   ]
  },
  {
   "cell_type": "code",
   "execution_count": null,
   "id": "8940ea47",
   "metadata": {},
   "outputs": [],
   "source": [
    "Me gustaría saber cuál fue el tamaño promedio de las tiendas en cada ciudad durante el año 2018.\n",
    "¿Puedes darme esa información?\n",
    "\n",
    "SELECT city_id, AVG(store_size) as promedio_tamanio\n",
    "FROM store_cities\n",
    "GROUP BY city_id;\n",
    "\n",
    "No está bien hecha, pues no estoy considerando que sean durante el año 2018. Para eso, tendria que hacer un join con la tabla sales. "
   ]
  },
  {
   "cell_type": "markdown",
   "id": "ee3953e8",
   "metadata": {},
   "source": [
    "## Filter"
   ]
  },
  {
   "cell_type": "code",
   "execution_count": null,
   "id": "751478c8",
   "metadata": {},
   "outputs": [],
   "source": []
  },
  {
   "cell_type": "markdown",
   "id": "e3eabd74",
   "metadata": {},
   "source": [
    "<details>\n",
    "    <summary><b> Respuestas </b></summary> \n",
    "    \n",
    "    SELECT * FROM tabla WHERE columna = 'valor';\n",
    "    \n",
    "    \n",
    "</details>"
   ]
  },
  {
   "cell_type": "markdown",
   "id": "a71f17a3",
   "metadata": {},
   "source": []
  },
  {
   "cell_type": "markdown",
   "id": "183a7b4e",
   "metadata": {},
   "source": [
    "## When"
   ]
  },
  {
   "cell_type": "code",
   "execution_count": null,
   "id": "0c8670f5",
   "metadata": {},
   "outputs": [],
   "source": []
  },
  {
   "cell_type": "markdown",
   "id": "a53d8951",
   "metadata": {},
   "source": [
    "<details>\n",
    "    <summary><b> Respuestas </b></summary>\n",
    "    \n",
    "    SELECT column1,\n",
    "       column2,\n",
    "       CASE\n",
    "           WHEN condition1 THEN result1\n",
    "           WHEN condition2 THEN result2\n",
    "           ELSE result3\n",
    "       END AS new_column\n",
    "    FROM table_name;\n",
    "</details>   "
   ]
  },
  {
   "cell_type": "markdown",
   "id": "99470a68",
   "metadata": {},
   "source": [
    "## Aggregations"
   ]
  },
  {
   "cell_type": "code",
   "execution_count": null,
   "id": "ca2027e1",
   "metadata": {},
   "outputs": [],
   "source": []
  },
  {
   "cell_type": "markdown",
   "id": "0e1cf79f",
   "metadata": {},
   "source": [
    "<details>\n",
    "    <summary><b> Respuestas </b></summary>\n",
    "    \n",
    "    SELECT COUNT(column) AS count,\n",
    "           SUM(column) AS sum,\n",
    "           AVG(column) AS average,\n",
    "           MAX(column) AS max,\n",
    "           MIN(column) AS min\n",
    "    FROM table_name;\n",
    "\n",
    "    -- Ejemplo: Obtener el total de ventas por cliente\n",
    "    SELECT customer_id,\n",
    "           SUM(amount) AS total_sales\n",
    "    FROM sales\n",
    "    GROUP BY customer_id;\n",
    "</details>  "
   ]
  },
  {
   "cell_type": "code",
   "execution_count": null,
   "id": "6a522dbe",
   "metadata": {},
   "outputs": [],
   "source": []
  },
  {
   "cell_type": "markdown",
   "id": "e3c4a9fc",
   "metadata": {},
   "source": [
    "## Joins"
   ]
  },
  {
   "cell_type": "code",
   "execution_count": null,
   "id": "d02659db",
   "metadata": {},
   "outputs": [],
   "source": []
  },
  {
   "cell_type": "markdown",
   "id": "4732aeff",
   "metadata": {},
   "source": [
    "<details>\n",
    "    <summary><b> Respuestas </b></summary>\n",
    "    \n",
    "        -- INNER JOIN\n",
    "    SELECT column1, column2\n",
    "    FROM table1\n",
    "    INNER JOIN table2\n",
    "    ON table1.column = table2.column;\n",
    "\n",
    "    -- Ejemplo: Obtener información de productos y sus categorías\n",
    "    SELECT p.product_name,\n",
    "           c.category_name\n",
    "    FROM products p\n",
    "    INNER JOIN categories c\n",
    "    ON p.category_id = c.category_id;\n",
    "</details>  "
   ]
  },
  {
   "cell_type": "code",
   "execution_count": null,
   "id": "e612b70a",
   "metadata": {},
   "outputs": [],
   "source": []
  }
 ],
 "metadata": {
  "kernelspec": {
   "display_name": "pyspark-env",
   "language": "python",
   "name": "pyspark-env"
  },
  "language_info": {
   "codemirror_mode": {
    "name": "ipython",
    "version": 3
   },
   "file_extension": ".py",
   "mimetype": "text/x-python",
   "name": "python",
   "nbconvert_exporter": "python",
   "pygments_lexer": "ipython3",
   "version": "3.11.4"
  }
 },
 "nbformat": 4,
 "nbformat_minor": 5
}
